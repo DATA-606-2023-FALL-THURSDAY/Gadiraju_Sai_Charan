{
 "cells": [
  {
   "cell_type": "markdown",
   "id": "9047ca5a",
   "metadata": {},
   "source": [
    "#project"
   ]
  },
  {
   "cell_type": "code",
   "execution_count": 1,
   "id": "66ee0178",
   "metadata": {},
   "outputs": [
    {
     "name": "stderr",
     "output_type": "stream",
     "text": [
      "C:\\Users\\SAI CHARAN\\anaconda3\\lib\\site-packages\\IPython\\core\\interactiveshell.py:3444: DtypeWarning: Columns (0,1,2,3,4,5,6,7,8,9,10,11,12,13,14,15,16,19,20,21,22,23,24,25,26,27,28,29,30,31,32,33,34,35,36,37,38,39,40,41,42,43,45,46,48,49,50,51,52,54,55,57,58,59,60,61,62,63,64,65,66,67,68,69,70,71,72,73,74,75,76,77,78,79,80,81,82,83,84,85,86,87,88,89,90,91,92,93,94,95,96,97,98,99,100,101,102,103,104,105,106,107,108,109,110,111,112,114,115,116,117,118,119,120,121,122,123,124) have mixed types.Specify dtype option on import or set low_memory=False.\n",
      "  exec(code_obj, self.user_global_ns, self.user_ns)\n",
      "C:\\Users\\SAI CHARAN\\anaconda3\\lib\\site-packages\\IPython\\core\\interactiveshell.py:3444: DtypeWarning: Columns (6,16,19,85,122) have mixed types.Specify dtype option on import or set low_memory=False.\n",
      "  exec(code_obj, self.user_global_ns, self.user_ns)\n",
      "C:\\Users\\SAI CHARAN\\anaconda3\\lib\\site-packages\\IPython\\core\\interactiveshell.py:3444: DtypeWarning: Columns (5,6,16,19,85) have mixed types.Specify dtype option on import or set low_memory=False.\n",
      "  exec(code_obj, self.user_global_ns, self.user_ns)\n",
      "C:\\Users\\SAI CHARAN\\anaconda3\\lib\\site-packages\\IPython\\core\\interactiveshell.py:3444: DtypeWarning: Columns (5,6,16,19,85,122) have mixed types.Specify dtype option on import or set low_memory=False.\n",
      "  exec(code_obj, self.user_global_ns, self.user_ns)\n"
     ]
    }
   ],
   "source": [
    "import pandas as pd\n",
    "\n",
    "# Specify the correct file path\n",
    "file_path_2019 = \"downloads/DATA606_Project/data_2019.csv\"\n",
    "file_path_2020 = \"downloads/DATA606_Project/data_2020.csv\"\n",
    "file_path_2021 = \"downloads/DATA606_Project/data_2021.csv\"\n",
    "file_path_2022 = \"downloads/DATA606_Project/data_2022.csv\"\n",
    "\n",
    "# Try reading the DataFrame with 'latin1' encoding\n",
    "encoding = 'latin1'  # Use 'latin1' encoding\n",
    "df_2019 = pd.read_csv(file_path_2019, encoding=encoding)\n",
    "df_2020 = pd.read_csv(file_path_2020, encoding=encoding)\n",
    "df_2021 = pd.read_csv(file_path_2021, encoding=encoding)\n",
    "df_2022 = pd.read_csv(file_path_2022, encoding=encoding)\n"
   ]
  },
  {
   "cell_type": "code",
   "execution_count": 2,
   "id": "5de47da4",
   "metadata": {},
   "outputs": [
    {
     "name": "stdout",
     "output_type": "stream",
     "text": [
      "Index(['CASE_NUMBER', 'DECISION_DATE', 'CASE_STATUS', 'CASE_RECEIVED_DATE',\n",
      "       'REFILE', 'ORIG_FILE_DATE', 'ORIG_CASE_NO', 'SCHD_A_SHEEPHERDER',\n",
      "       'EMPLOYER_NAME', 'EMPLOYER_ADDRESS_1',\n",
      "       ...\n",
      "       'FW_INFO_TRAINING_COMP', 'FW_INFO_REQ_EXPERIENCE',\n",
      "       'FW_INFO_ALT_EDU_EXPERIENCE', 'FW_INFO_REL_OCCUP_EXP',\n",
      "       'PREPARER_INFO_EMP_COMPLETED', 'PREPARER_INFO_TITLE',\n",
      "       'EMPLOYER_DECL_INFO_TITLE', 'NAICS_US_CODE', 'NAICS_US_TITLE',\n",
      "       'PW_JOB_TITLE'],\n",
      "      dtype='object', length=125)\n",
      "Index(['CASE_NUMBER', 'CASE_STATUS', 'RECEIVED_DATE', 'DECISION_DATE',\n",
      "       'REFILE', 'ORIG_FILE_DATE', 'PREVIOUS_SWA_CASE_NUMBER_STATE',\n",
      "       'SCHD_A_SHEEPHERDER', 'EMPLOYER_NAME', 'EMPLOYER_ADDRESS_1',\n",
      "       ...\n",
      "       'FOREIGN_WORKER_ALT_OCC_EXP', 'FOREIGN_WORKER_EXP_WITH_EMPL',\n",
      "       'FOREIGN_WORKER_EMPL_PAY_FOR_ED', 'FOREIGN_WORKER_CURR_EMPLOYED',\n",
      "       'EMPLOYER_COMPLETED_APPLICATION', 'PREPARER_NAME', 'PREPARER_TITLE',\n",
      "       'PREPARER_EMAIL', 'EMP_INFO_DECL_NAME', 'EMP_INFO_DECL_TITLE'],\n",
      "      dtype='object', length=154)\n",
      "Index(['CASE_NUMBER', 'CASE_STATUS', 'RECEIVED_DATE', 'DECISION_DATE',\n",
      "       'REFILE', 'ORIG_FILE_DATE', 'PREVIOUS_SWA_CASE_NUMBER_STATE',\n",
      "       'SCHD_A_SHEEPHERDER', 'EMPLOYER_NAME', 'EMPLOYER_ADDRESS_1',\n",
      "       ...\n",
      "       'FOREIGN_WORKER_ALT_OCC_EXP', 'FOREIGN_WORKER_EXP_WITH_EMPL',\n",
      "       'FOREIGN_WORKER_EMPL_PAY_FOR_ED', 'FOREIGN_WORKER_CURR_EMPLOYED',\n",
      "       'EMPLOYER_COMPLETED_APPLICATION', 'PREPARER_NAME', 'PREPARER_TITLE',\n",
      "       'PREPARER_EMAIL', 'EMP_INFO_DECL_NAME', 'EMP_DECL_TITLE'],\n",
      "      dtype='object', length=154)\n",
      "Index(['CASE_NUMBER', 'CASE_STATUS', 'RECEIVED_DATE', 'DECISION_DATE',\n",
      "       'REFILE', 'ORIG_FILE_DATE', 'PREVIOUS_SWA_CASE_NUMBER_STATE',\n",
      "       'SCHD_A_SHEEPHERDER', 'EMPLOYER_NAME', 'EMPLOYER_ADDRESS_1',\n",
      "       ...\n",
      "       'FOREIGN_WORKER_ALT_OCC_EXP', 'FOREIGN_WORKER_EXP_WITH_EMPL',\n",
      "       'FOREIGN_WORKER_EMPL_PAY_FOR_ED', 'FOREIGN_WORKER_CURR_EMPLOYED',\n",
      "       'EMPLOYER_COMPLETED_APPLICATION', 'PREPARER_NAME', 'PREPARER_TITLE',\n",
      "       'PREPARER_EMAIL', 'EMP_INFO_DECL_NAME', 'EMP_DECL_TITLE'],\n",
      "      dtype='object', length=154)\n"
     ]
    }
   ],
   "source": [
    "print(df_2019.columns)\n",
    "print(df_2020.columns)\n",
    "print(df_2021.columns)\n",
    "print(df_2022.columns)"
   ]
  },
  {
   "cell_type": "markdown",
   "id": "eeb4b35f",
   "metadata": {},
   "source": [
    "Align Columns:\n",
    "If the DataFrames have different columns, you should align them by selecting a common set of columns that exist in all DataFrames. You can use the intersection of column names to do this."
   ]
  },
  {
   "cell_type": "code",
   "execution_count": 3,
   "id": "86fbdbd8",
   "metadata": {},
   "outputs": [],
   "source": [
    "common_columns = df_2019.columns.intersection(df_2020.columns).intersection(df_2021.columns).intersection(df_2022.columns)\n",
    "\n",
    "df_2019 = df_2019[common_columns]\n",
    "df_2020 = df_2020[common_columns]\n",
    "df_2021 = df_2021[common_columns]\n",
    "df_2022 = df_2022[common_columns]"
   ]
  },
  {
   "cell_type": "code",
   "execution_count": 6,
   "id": "9b26e4ee",
   "metadata": {},
   "outputs": [
    {
     "name": "stdout",
     "output_type": "stream",
     "text": [
      "Index(['CASE_NUMBER', 'DECISION_DATE', 'CASE_STATUS', 'REFILE',\n",
      "       'ORIG_FILE_DATE', 'SCHD_A_SHEEPHERDER', 'EMPLOYER_NAME',\n",
      "       'EMPLOYER_ADDRESS_1', 'EMPLOYER_ADDRESS_2', 'EMPLOYER_CITY',\n",
      "       'EMPLOYER_COUNTRY', 'EMPLOYER_POSTAL_CODE', 'EMPLOYER_PHONE',\n",
      "       'EMPLOYER_PHONE_EXT', 'EMPLOYER_NUM_EMPLOYEES', 'FW_OWNERSHIP_INTEREST',\n",
      "       'PW_SOC_CODE', 'PW_SOC_TITLE', 'COUNTRY_OF_CITIZENSHIP',\n",
      "       'CLASS_OF_ADMISSION', 'FOREIGN_WORKER_INFO_MAJOR'],\n",
      "      dtype='object')\n",
      "Index(['CASE_NUMBER', 'DECISION_DATE', 'CASE_STATUS', 'REFILE',\n",
      "       'ORIG_FILE_DATE', 'SCHD_A_SHEEPHERDER', 'EMPLOYER_NAME',\n",
      "       'EMPLOYER_ADDRESS_1', 'EMPLOYER_ADDRESS_2', 'EMPLOYER_CITY',\n",
      "       'EMPLOYER_COUNTRY', 'EMPLOYER_POSTAL_CODE', 'EMPLOYER_PHONE',\n",
      "       'EMPLOYER_PHONE_EXT', 'EMPLOYER_NUM_EMPLOYEES', 'FW_OWNERSHIP_INTEREST',\n",
      "       'PW_SOC_CODE', 'PW_SOC_TITLE', 'COUNTRY_OF_CITIZENSHIP',\n",
      "       'CLASS_OF_ADMISSION', 'FOREIGN_WORKER_INFO_MAJOR'],\n",
      "      dtype='object')\n",
      "Index(['CASE_NUMBER', 'DECISION_DATE', 'CASE_STATUS', 'REFILE',\n",
      "       'ORIG_FILE_DATE', 'SCHD_A_SHEEPHERDER', 'EMPLOYER_NAME',\n",
      "       'EMPLOYER_ADDRESS_1', 'EMPLOYER_ADDRESS_2', 'EMPLOYER_CITY',\n",
      "       'EMPLOYER_COUNTRY', 'EMPLOYER_POSTAL_CODE', 'EMPLOYER_PHONE',\n",
      "       'EMPLOYER_PHONE_EXT', 'EMPLOYER_NUM_EMPLOYEES', 'FW_OWNERSHIP_INTEREST',\n",
      "       'PW_SOC_CODE', 'PW_SOC_TITLE', 'COUNTRY_OF_CITIZENSHIP',\n",
      "       'CLASS_OF_ADMISSION', 'FOREIGN_WORKER_INFO_MAJOR'],\n",
      "      dtype='object')\n",
      "Index(['CASE_NUMBER', 'DECISION_DATE', 'CASE_STATUS', 'REFILE',\n",
      "       'ORIG_FILE_DATE', 'SCHD_A_SHEEPHERDER', 'EMPLOYER_NAME',\n",
      "       'EMPLOYER_ADDRESS_1', 'EMPLOYER_ADDRESS_2', 'EMPLOYER_CITY',\n",
      "       'EMPLOYER_COUNTRY', 'EMPLOYER_POSTAL_CODE', 'EMPLOYER_PHONE',\n",
      "       'EMPLOYER_PHONE_EXT', 'EMPLOYER_NUM_EMPLOYEES', 'FW_OWNERSHIP_INTEREST',\n",
      "       'PW_SOC_CODE', 'PW_SOC_TITLE', 'COUNTRY_OF_CITIZENSHIP',\n",
      "       'CLASS_OF_ADMISSION', 'FOREIGN_WORKER_INFO_MAJOR'],\n",
      "      dtype='object')\n"
     ]
    }
   ],
   "source": [
    "print(df_2019.columns)\n",
    "print(df_2020.columns)\n",
    "print(df_2021.columns)\n",
    "print(df_2022.columns)"
   ]
  },
  {
   "cell_type": "markdown",
   "id": "408f95ff",
   "metadata": {},
   "source": [
    "Add Year Column:\n",
    "Create a new column in each DataFrame to indicate the year. This will help you identify the data source when merged."
   ]
  },
  {
   "cell_type": "code",
   "execution_count": 7,
   "id": "b9500089",
   "metadata": {},
   "outputs": [],
   "source": [
    "df_2019['Year'] = 2019\n",
    "df_2020['Year'] = 2020\n",
    "df_2021['Year'] = 2021\n",
    "df_2022['Year'] = 2022"
   ]
  },
  {
   "cell_type": "markdown",
   "id": "b34a04d0",
   "metadata": {},
   "source": [
    "Concatenate DataFrames:\n",
    "Use the pd.concat() function to concatenate the DataFrames vertically, effectively merging them."
   ]
  },
  {
   "cell_type": "code",
   "execution_count": 8,
   "id": "bb816fa2",
   "metadata": {},
   "outputs": [],
   "source": [
    "merged_df = pd.concat([df_2019, df_2020, df_2021, df_2022], ignore_index=True)"
   ]
  },
  {
   "cell_type": "markdown",
   "id": "7a4462bb",
   "metadata": {},
   "source": [
    "Save the Merged Data:\n",
    "Save the merged DataFrame to a new file or use it for further analysis.\n",
    "python\n"
   ]
  },
  {
   "cell_type": "code",
   "execution_count": 9,
   "id": "e3c2d53b",
   "metadata": {},
   "outputs": [],
   "source": [
    "merged_df.to_csv(\"merged_data.csv\", index=False)"
   ]
  },
  {
   "cell_type": "markdown",
   "id": "a44547dd",
   "metadata": {},
   "source": [
    "Now, you have a single DataFrame containing data from all four years (2019, 2020, 2021, 2022) with a common set of columns, and a \"Year\" column indicating the source year. You can perform various analyses or transformations on this merged dataset within your Jupyter Notebook."
   ]
  },
  {
   "cell_type": "code",
   "execution_count": 10,
   "id": "ef7c34f5",
   "metadata": {},
   "outputs": [
    {
     "name": "stdout",
     "output_type": "stream",
     "text": [
      "DataFrame size: 1069.51 MB\n"
     ]
    }
   ],
   "source": [
    "# Calculate memory usage of the DataFrame in MB\n",
    "memory_usage_mb = merged_df.memory_usage(deep=True).sum() / (1024 * 1024)  # Convert bytes to MB\n",
    "\n",
    "print(f\"DataFrame size: {memory_usage_mb:.2f} MB\")"
   ]
  },
  {
   "cell_type": "code",
   "execution_count": 11,
   "id": "359b0e91",
   "metadata": {},
   "outputs": [
    {
     "name": "stdout",
     "output_type": "stream",
     "text": [
      "Number of rows: 1320781\n",
      "Number of columns: 22\n"
     ]
    }
   ],
   "source": [
    "# Get the shape of the DataFrame\n",
    "num_rows, num_columns = merged_df.shape\n",
    "\n",
    "print(f\"Number of rows: {num_rows}\")\n",
    "print(f\"Number of columns: {num_columns}\")"
   ]
  },
  {
   "cell_type": "markdown",
   "id": "dde61b46",
   "metadata": {},
   "source": [
    "To determine the potential values or categories for categorical variables in your dataset, you can inspect the unique values present in each categorical column. Here's how you can identify the categories for categorical variables in your DataFrame:"
   ]
  },
  {
   "cell_type": "code",
   "execution_count": 13,
   "id": "9e50462c",
   "metadata": {},
   "outputs": [],
   "source": [
    "# List of columns that are likely categorical\n",
    "categorical_columns = [\n",
    "    'CASE_STATUS', 'EMPLOYER_COUNTRY', 'EMPLOYER_STATE',\n",
    "    'AGENT_STATE', 'PW_SOC_CODE', 'PW_SOC_TITLE',\n",
    "    'PW_LEVEL_9089', 'JOB_INFO_WORK_STATE',\n",
    "    'JOB_INFO_EDUCATION', 'COUNTRY_OF_CITIZENSHIP',\n",
    "    'FW_INFO_BIRTH_COUNTRY', 'CLASS_OF_ADMISSION',\n",
    "    'FOREIGN_WORKER_INFO_EDUCATION'\n",
    "]\n"
   ]
  },
  {
   "cell_type": "code",
   "execution_count": 14,
   "id": "1c60bfdc",
   "metadata": {},
   "outputs": [
    {
     "data": {
      "text/html": [
       "<div>\n",
       "<style scoped>\n",
       "    .dataframe tbody tr th:only-of-type {\n",
       "        vertical-align: middle;\n",
       "    }\n",
       "\n",
       "    .dataframe tbody tr th {\n",
       "        vertical-align: top;\n",
       "    }\n",
       "\n",
       "    .dataframe thead th {\n",
       "        text-align: right;\n",
       "    }\n",
       "</style>\n",
       "<table border=\"1\" class=\"dataframe\">\n",
       "  <thead>\n",
       "    <tr style=\"text-align: right;\">\n",
       "      <th></th>\n",
       "      <th>CASE_NUMBER</th>\n",
       "      <th>DECISION_DATE</th>\n",
       "      <th>CASE_STATUS</th>\n",
       "      <th>REFILE</th>\n",
       "      <th>ORIG_FILE_DATE</th>\n",
       "      <th>SCHD_A_SHEEPHERDER</th>\n",
       "      <th>EMPLOYER_NAME</th>\n",
       "      <th>EMPLOYER_ADDRESS_1</th>\n",
       "      <th>EMPLOYER_ADDRESS_2</th>\n",
       "      <th>EMPLOYER_CITY</th>\n",
       "      <th>...</th>\n",
       "      <th>EMPLOYER_PHONE</th>\n",
       "      <th>EMPLOYER_PHONE_EXT</th>\n",
       "      <th>EMPLOYER_NUM_EMPLOYEES</th>\n",
       "      <th>FW_OWNERSHIP_INTEREST</th>\n",
       "      <th>PW_SOC_CODE</th>\n",
       "      <th>PW_SOC_TITLE</th>\n",
       "      <th>COUNTRY_OF_CITIZENSHIP</th>\n",
       "      <th>CLASS_OF_ADMISSION</th>\n",
       "      <th>FOREIGN_WORKER_INFO_MAJOR</th>\n",
       "      <th>Year</th>\n",
       "    </tr>\n",
       "  </thead>\n",
       "  <tbody>\n",
       "    <tr>\n",
       "      <th>0</th>\n",
       "      <td>A-17117-30982</td>\n",
       "      <td>01-10-2018</td>\n",
       "      <td>Certified-Expired</td>\n",
       "      <td>NaN</td>\n",
       "      <td>NaN</td>\n",
       "      <td>N</td>\n",
       "      <td>Precision, Inc.</td>\n",
       "      <td>1700 Freeway Blvd.</td>\n",
       "      <td>NaN</td>\n",
       "      <td>Minneapolis</td>\n",
       "      <td>...</td>\n",
       "      <td>7638526729</td>\n",
       "      <td>NaN</td>\n",
       "      <td>109.0</td>\n",
       "      <td>N</td>\n",
       "      <td>17-2071</td>\n",
       "      <td>Electrical Engineers</td>\n",
       "      <td>HONG KONG</td>\n",
       "      <td>H-1B</td>\n",
       "      <td>ELECTRICAL ENGINEERING</td>\n",
       "      <td>2019</td>\n",
       "    </tr>\n",
       "    <tr>\n",
       "      <th>1</th>\n",
       "      <td>A-17179-57659</td>\n",
       "      <td>01-10-2018</td>\n",
       "      <td>Certified-Expired</td>\n",
       "      <td>NaN</td>\n",
       "      <td>NaN</td>\n",
       "      <td>N</td>\n",
       "      <td>HOME DOCTOR CONSTRUCTION LLC</td>\n",
       "      <td>67 TANGLEWOOD ROAD</td>\n",
       "      <td>NaN</td>\n",
       "      <td>NEWTON</td>\n",
       "      <td>...</td>\n",
       "      <td>6177778656</td>\n",
       "      <td>NaN</td>\n",
       "      <td>2.0</td>\n",
       "      <td>Y</td>\n",
       "      <td>47-2061</td>\n",
       "      <td>Construction Laborers</td>\n",
       "      <td>BELARUS</td>\n",
       "      <td>B-2</td>\n",
       "      <td>NaN</td>\n",
       "      <td>2019</td>\n",
       "    </tr>\n",
       "    <tr>\n",
       "      <th>2</th>\n",
       "      <td>A-17214-71267</td>\n",
       "      <td>01-10-2018</td>\n",
       "      <td>Certified-Expired</td>\n",
       "      <td>NaN</td>\n",
       "      <td>NaN</td>\n",
       "      <td>N</td>\n",
       "      <td>AT&amp;T SERVICES, INC.</td>\n",
       "      <td>ONE AT&amp;T PLAZA</td>\n",
       "      <td>208 S. AKARD</td>\n",
       "      <td>DALLAS</td>\n",
       "      <td>...</td>\n",
       "      <td>800-403-3302</td>\n",
       "      <td>NaN</td>\n",
       "      <td>281450.0</td>\n",
       "      <td>N</td>\n",
       "      <td>11-3021</td>\n",
       "      <td>Computer and Information Systems Managers</td>\n",
       "      <td>INDIA</td>\n",
       "      <td>H-1B</td>\n",
       "      <td>ELECTRICAL ENGINEERING</td>\n",
       "      <td>2019</td>\n",
       "    </tr>\n",
       "    <tr>\n",
       "      <th>3</th>\n",
       "      <td>A-17279-95946</td>\n",
       "      <td>01-10-2018</td>\n",
       "      <td>Certified-Expired</td>\n",
       "      <td>NaN</td>\n",
       "      <td>NaN</td>\n",
       "      <td>N</td>\n",
       "      <td>SOFTWARE PEOPLE, INC</td>\n",
       "      <td>738 SMITHTOWN BYPASS,</td>\n",
       "      <td>SUITE #202</td>\n",
       "      <td>SMITHTOWN</td>\n",
       "      <td>...</td>\n",
       "      <td>6318630299</td>\n",
       "      <td>NaN</td>\n",
       "      <td>40.0</td>\n",
       "      <td>N</td>\n",
       "      <td>15-1132</td>\n",
       "      <td>Software Developers, Applications</td>\n",
       "      <td>INDIA</td>\n",
       "      <td>H-1B</td>\n",
       "      <td>NaN</td>\n",
       "      <td>2019</td>\n",
       "    </tr>\n",
       "    <tr>\n",
       "      <th>4</th>\n",
       "      <td>A-17310-07454</td>\n",
       "      <td>01-10-2018</td>\n",
       "      <td>Denied</td>\n",
       "      <td>NaN</td>\n",
       "      <td>NaN</td>\n",
       "      <td>N</td>\n",
       "      <td>IRA NASSERIAN A PROFESSIONAL CORPORATION</td>\n",
       "      <td>5901 W CENTURY BOULEVARD</td>\n",
       "      <td>SUITE 1020</td>\n",
       "      <td>LOS ANGELES</td>\n",
       "      <td>...</td>\n",
       "      <td>3103377900</td>\n",
       "      <td>NaN</td>\n",
       "      <td>1.0</td>\n",
       "      <td>Y</td>\n",
       "      <td>23-2099</td>\n",
       "      <td>Legal Support Workers, All Other</td>\n",
       "      <td>IRAN</td>\n",
       "      <td>B-2</td>\n",
       "      <td>LAW</td>\n",
       "      <td>2019</td>\n",
       "    </tr>\n",
       "  </tbody>\n",
       "</table>\n",
       "<p>5 rows × 22 columns</p>\n",
       "</div>"
      ],
      "text/plain": [
       "     CASE_NUMBER DECISION_DATE        CASE_STATUS REFILE ORIG_FILE_DATE  \\\n",
       "0  A-17117-30982    01-10-2018  Certified-Expired    NaN            NaN   \n",
       "1  A-17179-57659    01-10-2018  Certified-Expired    NaN            NaN   \n",
       "2  A-17214-71267    01-10-2018  Certified-Expired    NaN            NaN   \n",
       "3  A-17279-95946    01-10-2018  Certified-Expired    NaN            NaN   \n",
       "4  A-17310-07454    01-10-2018             Denied    NaN            NaN   \n",
       "\n",
       "  SCHD_A_SHEEPHERDER                             EMPLOYER_NAME  \\\n",
       "0                  N                           Precision, Inc.   \n",
       "1                  N              HOME DOCTOR CONSTRUCTION LLC   \n",
       "2                  N                       AT&T SERVICES, INC.   \n",
       "3                  N                      SOFTWARE PEOPLE, INC   \n",
       "4                  N  IRA NASSERIAN A PROFESSIONAL CORPORATION   \n",
       "\n",
       "         EMPLOYER_ADDRESS_1 EMPLOYER_ADDRESS_2 EMPLOYER_CITY  ...  \\\n",
       "0        1700 Freeway Blvd.                NaN   Minneapolis  ...   \n",
       "1        67 TANGLEWOOD ROAD                NaN        NEWTON  ...   \n",
       "2            ONE AT&T PLAZA       208 S. AKARD        DALLAS  ...   \n",
       "3     738 SMITHTOWN BYPASS,         SUITE #202     SMITHTOWN  ...   \n",
       "4  5901 W CENTURY BOULEVARD         SUITE 1020   LOS ANGELES  ...   \n",
       "\n",
       "  EMPLOYER_PHONE EMPLOYER_PHONE_EXT EMPLOYER_NUM_EMPLOYEES  \\\n",
       "0     7638526729                NaN                  109.0   \n",
       "1     6177778656                NaN                    2.0   \n",
       "2   800-403-3302                NaN               281450.0   \n",
       "3     6318630299                NaN                   40.0   \n",
       "4     3103377900                NaN                    1.0   \n",
       "\n",
       "  FW_OWNERSHIP_INTEREST  PW_SOC_CODE  \\\n",
       "0                     N      17-2071   \n",
       "1                     Y      47-2061   \n",
       "2                     N      11-3021   \n",
       "3                     N      15-1132   \n",
       "4                     Y      23-2099   \n",
       "\n",
       "                                PW_SOC_TITLE COUNTRY_OF_CITIZENSHIP  \\\n",
       "0                       Electrical Engineers              HONG KONG   \n",
       "1                      Construction Laborers                BELARUS   \n",
       "2  Computer and Information Systems Managers                  INDIA   \n",
       "3          Software Developers, Applications                  INDIA   \n",
       "4           Legal Support Workers, All Other                   IRAN   \n",
       "\n",
       "  CLASS_OF_ADMISSION FOREIGN_WORKER_INFO_MAJOR  Year  \n",
       "0               H-1B    ELECTRICAL ENGINEERING  2019  \n",
       "1                B-2                       NaN  2019  \n",
       "2               H-1B    ELECTRICAL ENGINEERING  2019  \n",
       "3               H-1B                       NaN  2019  \n",
       "4                B-2                       LAW  2019  \n",
       "\n",
       "[5 rows x 22 columns]"
      ]
     },
     "execution_count": 14,
     "metadata": {},
     "output_type": "execute_result"
    }
   ],
   "source": [
    "merged_df.head()"
   ]
  },
  {
   "cell_type": "code",
   "execution_count": null,
   "id": "b05e8bfc",
   "metadata": {},
   "outputs": [],
   "source": []
  }
 ],
 "metadata": {
  "kernelspec": {
   "display_name": "Python 3 (ipykernel)",
   "language": "python",
   "name": "python3"
  },
  "language_info": {
   "codemirror_mode": {
    "name": "ipython",
    "version": 3
   },
   "file_extension": ".py",
   "mimetype": "text/x-python",
   "name": "python",
   "nbconvert_exporter": "python",
   "pygments_lexer": "ipython3",
   "version": "3.9.7"
  }
 },
 "nbformat": 4,
 "nbformat_minor": 5
}
